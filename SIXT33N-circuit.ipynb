{
 "cells": [
  {
   "cell_type": "markdown",
   "metadata": {},
   "source": [
    "# SIXT33N Project\n",
    "## Phase 1: Microphone Front End\n",
    "\n",
    "### EE 16B: Designing Information Devices and Systems II, Fall 2018\n",
    "\n",
    "Written by Nathaniel Mailoa and Emily Naviasky (2016)\n",
    "\n",
    "nmailoa@berkeley.edu &emsp; enaviasky@berkeley.edu"
   ]
  },
  {
   "cell_type": "markdown",
   "metadata": {},
   "source": [
    "**Name 1**:\n",
    "\n",
    "**Login**: ee16b-\n",
    "\n",
    "\n",
    "**Name 2**:\n",
    "\n",
    "**Login**: ee16b-"
   ]
  },
  {
   "cell_type": "markdown",
   "metadata": {},
   "source": [
    "\n",
    "## Table of Contents\n",
    "\n",
    "* [Introduction](#intro)\n",
    "* [Part 1: Circuit Layout and Power](#part1)\n",
    "* [Part 2: Microphone Biasing Circuit](#part2)\n",
    "* [Part 3: Tuning the Microphone's Gain](#part3)\n",
    "* [Part 4: Filtering](#part4)\n",
    "* [Part 5: Data Collection](#part5)"
   ]
  },
  {
   "cell_type": "markdown",
   "metadata": {},
   "source": [
    "<a id='intro'></a>\n",
    "## Introduction\n",
    "\n",
    "For the rest of this semester you will be designing SIXT33N, a mischevious little robot who *might* just do what you want - if you design it correctly. In this phase, **you will be desiging SIXT33N's ears**: a microphone front end circuit that processes the mic signal into something you can record using the Launchpad ADC.\n",
    "\n",
    "The goals of this phase are as follows:\n",
    "- Band pass filter circuit\n",
    "- Level shift + gain circuit for ADC\n",
    "- View ADC output on PC\n",
    "- Record data for next phase\n",
    "- Prepare to use batteries to power SIXT33N"
   ]
  },
  {
   "cell_type": "markdown",
   "metadata": {},
   "source": [
    "<a id='part1'></a>\n",
    "## <span style=\"color:blue\">Part 1: Circuit Layout and Power</span>\n",
    "\n",
    "### Materials\n",
    "- Power supply + cables\n",
    "- 1 LM7805 voltage regulator\n",
    "- 2 1$\\mu$F capacitors\n",
    "- 1 10$\\mu$F capacitor"
   ]
  },
  {
   "cell_type": "markdown",
   "metadata": {},
   "source": [
    "In this part we will build the filtering circuit for our audio input to SIXT33N.\n",
    "\n",
    "Our circuit will need two sources of power: \n",
    "1. ** 5V (Will come from the voltage regulator) **\n",
    "2. ** 3.3V (Will come from the launchpad) **\n",
    "\n",
    "** There is no negative voltage source. **\n",
    "\n",
    "Try to divide your breadboard into the following sections so that you have room for them all.\n",
    "- Use both of your (+) rails for 3.3V because most of the circuit will use 3.3V.\n",
    "- Plug your 5V source into a row close to your mic board.  Today, only the mic board uses the 5V supply.\n",
    "- Connect the ground of the 3.3V and 5V supplies, and connect the two (-) to create your ground rail.\n",
    "- The purple section is where you will build your front end.\n",
    "- The blue sections are set aside for your motor driver circuits later in the project\n",
    "\n",
    "<img style=\"width:700px\" src=\"images/circuit_outline_diagram_v2_with_voltage_reg_single_cap.png\">\n",
    "\n",
    "**KEEP YOUR CIRCUIT NEAT!** That goes without saying :)\n",
    "\n",
    "#### Power Supply\n",
    "\n",
    "** In the future: ** \n",
    "SIXT33N will run on a 9V battery when it is running around. \n",
    "- A voltage regulator will regulate this 9V down to 5V\n",
    "- Our MSP will take in 5V from the voltage regulator and output 3.3V for our rails.  \n",
    "\n",
    "** For today: ** Use the power supply at your bench to power your voltage regulator: \n",
    "- Power your voltage regulator with 9V from the bench power supply\n",
    "- Note that you do not have a -5V rail, nor a -3.3V\n",
    "- Connect both power supplies' grounds on your breadboard\n",
    "- **Limit the current from your supply to 100mA (0.1 amperes)**\n",
    "\n",
    "## Voltage Regulator\n",
    "\n",
    "The Launchpad and the front end circuit need a 5V source, so we need a voltage regulator. The <a href=\"http://www.mouser.com/ds/2/308/LM7805-1124977.pdf\">LM7805</a> is a voltage regulator that outputs 5V. Glance through the datasheet (figure 6) to find the pin diagram. \n",
    "\n",
    "**For now, connect $V_{\\text{in}}$ to 9V from the power supply.** Don't forget to connect the ground of the regulator to the rail you want to be ground. \n",
    "\n",
    "<center>\n",
    "<img width=\"500px\" src=\"images/voltage_reg.png\">\n",
    "<img width=\"200px\" src=\"images/voltage_reg_real.png\">\n",
    "<img width=\"550px\" src=\"images/lmp.png\">\n",
    "</center>\n",
    "\n",
    "**<span style=\"color:red\">Use your multimeter to check that the output of your regulator is 5V.</span>**\n",
    "\n",
    "\n",
    "\n",
    "Now, you are going to be working with some small signals. You don't want to introduce more noise than you need to, and the power rails can be a large source of noise. To keep some noise off of your power rails:\n",
    "\n",
    "### **Add a decoupling capacitor (10 uF, code 106) between your 3.3 V rail and ground.**\n",
    "\n",
    "Decoupling capacitors will reduce fluctuations on your rails (which can occur for example when the voltage source must supply a large amount of current across wires which actually have non-zero resistance and inductance) .  (https://en.wikipedia.org/wiki/Decoupling_capacitor) You should use them in every circuit you build <i>in the future for the rest of your life</i>."
   ]
  },
  {
   "cell_type": "markdown",
   "metadata": {},
   "source": [
    "<a id='part2'></a>\n",
    "## <span style=\"color:blue\">Part 2: Microphone Biasing Circuit</span>\n",
    "\n",
    "### Materials\n",
    "- 10k Resistors (x2)\n",
    "- 51k Resistors (x2)\n",
    "- 100k Resistor\n",
    "- 50k Potentiometer\n",
    "- Op-amps\n",
    "- Mic Board\n",
    "\n",
    "First, let's take a closer look at our mic board.  The following circuits are on the mic board PCB:\n",
    "\n",
    "\n",
    "<img style=\"width:800px\" src=\"./images/MicBoardSchematic_pot_overlay.png\">\n",
    "\n",
    "We will build circuits which provide signals for the OS1 (DC Offset) and OS2 (Level shift) pins.\n",
    "\n",
    "#### Microphone Gain\n",
    "\n",
    "The electret microphone (https://en.wikipedia.org/wiki/Electret_microphone) behaves as a ** variable current source ** depending on the size of the sound waves hitting it. Current is a bit difficult to work with in this case, so you will turn that into a voltage signal using the Mic Gain part of the circuit.\n",
    "\n",
    "#### Buffer\n",
    "This buffer helps keep the amplifier and the capacitor from affecting the microphone. It looks a little different than the buffers we usually use (there's a resistor in the feedback loop), but it functions just the same.\n",
    "\n",
    "#### Remove Mic Drift\n",
    "\n",
    "Putting a capacitor between one stage and the next is usually called a coupling cap (https://en.wikipedia.org/wiki/Capacitive_coupling), but it really just a high pass filter with a very low corner. The microphone naturally has a lot of low frequency drift, so we use this coupling cap to remove any DC offset and noise. This allows us to ignore whatever DC value the mic gain stage had, and add in a convenient DC value using the next stage.\n",
    "\n",
    "#### DC Offset\n",
    "\n",
    "For this project, **you don't have a negative power source**, only your 5V rail and ground (our LaunchPads don't like negative voltage as an input). If you center your signal around ground, like we did in previous labs, then you will lose the negative half the signal as soon as you send it through an op-amp because your op-amp won't be able to track your signal below ground. To get around this problem, we want to center our signal in the center of our voltage range.\n",
    "\n",
    "However, you will have to <b>be careful</b> and remember that a DC offset exists or it could become troublesome. Think of a 0.1V DC signal. Now put that signal through a non-inverting op-amp with x100 gain. Suddenly that 0.1V DC signal becomes 10V! \n",
    "\n",
    "#### Level Shift\n",
    "\n",
    "The OS2 Pin will allow us to introduce something called a level shift - it will help us deal with the problem of the DC offset and the amplifier.\n",
    "\n",
    "#### Amplifier\n",
    "\n",
    "Finally, the mic board uses a non-inverting amplifier to amplify the microphone signal. Note that OS2 is on the inverting terminal of the op-amp - we can use this to help us deal with our DC offset problem.\n"
   ]
  },
  {
   "cell_type": "markdown",
   "metadata": {},
   "source": [
    "## Biasing Circuit\n",
    "\n",
    "Looking at our mic board, we still need to determine the inputs to OS1 and OS2.\n",
    "\n",
    "#### OS1: DC Offset\n",
    "Because we need our signal to be centered in our usable range (0 - 3.3 V), we will need to set the DC offset to the midpoint of this range: 1.65 V. This can easily be accomplished with a voltage divider of two equal resistors from the 3.3 V rail to ground.\n",
    "\n",
    "#### OS2: Level Shift\n",
    "When we introduce the DC Offset, we will encounter a problem when the signal passes through the non-inverting amplifier: that DC offset will be amplified along with the rest of the signal! This is because the amplifier will amplify the signal as referenced from <i>ground</i>.\n",
    "\n",
    "So, referencing from <i>ground</i> is the key problem here. If we want to avoid amplifying the DC offset, what value should we use for the reference? \n",
    "\n",
    "#### <span style=\"color:green\"> If you guessed 1.65 V, congratulations! This is the key idea to a level-shifter.</span>\n",
    "\n",
    "Recall that we connected OS2 to ground when we built color organ - this is how we told the non-inverting amplifier to use ground as a reference. To use 1.65 V instead, <b> we will need to connect OS2 to a non-zero voltage</b>. This voltage will need to match the DC offset we introduce to OS1.\n",
    "\n",
    "However, we have another problem: our resistors can varry by up to 5%. This means it will be very unlikely that we can find two matched pairs of resistors so both OS1 and OS2 will be at exactly the same voltage.\n",
    "\n",
    "To make biasing easier, you are using a new device. The resistor with an arrow through it is called a potentiometer. The potentiometer has 3 terminals. Think of the top two terminals as one resistor and the bottom two as a a second resistor. The two resistors must add up to 50k$\\Omega$, but by turning the knob, you can make the first resistor large and the second small, or vice versa.\n",
    "\n",
    "<img style=\"width:500px\" src=\"images/pot.png\">\n",
    "\n",
    "<center><span style=\"color:black; font-weight: 400; font-size: 24px; font-style: normal\"> Inside the potentiometer:</span></center>\n",
    "<img style=\"width:300px\" src=\"images/inside-potentiometer.jpg\">\n",
    "\n",
    "There are 2 ways potentiometers are usually used:\n",
    "- Voltage divider (all 3 terminals used)\n",
    "- Variable resistor (only top or bottom resistor used)\n",
    "\n",
    "(In this lab we will use all 3 terminals.  The middle terminal will be connected to the non-inverting input of the op-amp)\n",
    "\n",
    "**The figure below shows the two biasing circuits that we will need to build.** \n",
    "\n",
    "<img style=\"width:800px\" src=\"images/BiasCircuit_51k_pot_overlay.png\">\n",
    "\n",
    "### Your tasks\n",
    "- Build the above circuit\n",
    "- Use 0 and +3.3V as the power supplies for these op-amps.\n",
    "- Connect your mic board as follows:\n",
    "    - VDD: 5 V from voltage regulator\n",
    "    - VSS: ground\n",
    "    - OS1 and OS2 to the biasing circuit we just built\n",
    "\n",
    "In the next part, we will tune the mic board and biasing circuit by using a screwdriver to adjust the potentiometers."
   ]
  },
  {
   "cell_type": "markdown",
   "metadata": {},
   "source": [
    "<a id='part3'></a>\n",
    "## <span style=\"color:blue\">Part 3: Tuning the Microphone's Gain</span>\n",
    "\n",
    "### Materials\n",
    "- Oscilloscope + probe\n",
    "\n",
    "When you first hook everything up, you might not get anything reasonable - this is totally okay! If the Level Shift (voltage at OS2) isn't *perfectly* matched to the DC offset, then the amplifier might amplify it to the point where the signal rails out!\n",
    "\n",
    "Carefully tune both the <b>gain</b> and the <b>level shift</b> until the output signal is centered at 1.65 V. This can take a little bit of fiddling, so just be patient!\n",
    "\n",
    "### Tuning Instructions\n",
    "**Overview: Start with a low gain, tweak the level shift. Increase the gain a bit, tweak the level shift. Repeat until you're satisfied with your signal level.**\n",
    "\n",
    "#### Setup:\n",
    "1. Start by making sure your micboard is powered by $5\\mathrm{V}$ from the voltage regulator at VDD and GROUNDED at VSS. \n",
    "2. Make sure OS1 is connected to the output of your voltage divider's buffer, and OS2 is connected to the output of your potentiometer's buffer. \n",
    "3. Connect an oscilloscope cable to the output.\n",
    "4. Display a peak to peak measurement for the current channel on the oscilloscope\n",
    "5. Display an average measurement for the current channel on the oscilloscope\n",
    "\n",
    "#### Now you are ready to tune your micboard!\n",
    "- In the project, you will be using your *voice*, not tones, with the mic board.\n",
    "- While tuning, talk into the microphone from a comfortable distance (2-3 feet).\n",
    "- This circuit will end up on your car on the ground, and you don't want to have your face on the ground to control it!\n",
    "\n",
    "\n",
    "1. Lower the gain: Turn the potentiometer on your mic board **clockwise**.\n",
    "2. Adjust the level shift: Turn the potentiometer on your breadboard until the average measurement is around $1.65\\mathrm{V}$.\n",
    "3. Increase the gain: Turn the gain potentiometer on the mic board **counter-clockwise** until the signal becomes uncentered.\n",
    "4. Iterate on steps 2 and 3 until you see a signal with $\\approx2.5\\mathrm{V}_{pp}$ amplitude centered near $1.65\\mathrm{V}$.\n",
    "\n",
    "Congratulations! You have successfully tuned your micboard. \n",
    "\n",
    "\n",
    "#### Note:\n",
    " - The output voltage of the board ranges from $0$ to $3.3\\mathrm{V}$ when the loudest sound is applied.\n",
    " - Test by speaking (loudly) from ~2 feet from the mic board.\n",
    " - We can always adjust this later."
   ]
  },
  {
   "cell_type": "markdown",
   "metadata": {},
   "source": [
    "Now, lets take some measurements of our mic board. Use your o-scope to probe at the OUTPUT pin.\n",
    "\n",
    "\n",
    "**<span style=\"color:red\">What is the DC voltage at the output?</span>**\n",
    "\n",
    "YOUR ANSWER HERE"
   ]
  },
  {
   "cell_type": "markdown",
   "metadata": {},
   "source": [
    "<a id='part4'></a>\n",
    "## <span style=\"color:blue\">Part 4: Filtering</span>\n",
    "\n",
    "### Materials\n",
    "- Op-amps\n",
    "- Resistors\n",
    "- Capacitors\n",
    "- 1 Micboard + biasing circuit\n",
    "- Power supply + cables\n",
    "- Oscilloscope + probe"
   ]
  },
  {
   "cell_type": "markdown",
   "metadata": {},
   "source": [
    "Recall from the previous week's lab that the frequency range for the human voice is about 180-20000Hz (female voice: 300 Hz-17kHz; male voice: 150Hz-8kHz), but most speech falls between **250Hz** and **2500Hz**. In order to minimize noise, we want to only collect data inside this frequency range. So, we'll build a bandpass filter like we did in the color organ lab. \n",
    "\n",
    "### Your tasks\n",
    "- Calculate appropriate capacitor and resistor values for your high- and low-pass filters\n",
    "- Build the following circuit on your breadboard\n",
    "    - The buffer at the output with rails of 0V and 3.3V prevents damage to your LaunchPad.\n",
    "    - The high-pass filter is connected to OS2 to keep the signal centered at 1.65V.\n",
    "        - If it were connected to ground, the high-pass filter would remove the 1.65V offset.\n",
    "- Use the micboard output as the input to your band-pass filter.\n",
    "\n",
    "<center><img width='800px' src=\"./images/bandpass.png\"></center>\n",
    "\n",
    "**<span style=\"color:red\">Record your choice of R1, R2, C1 and C2 for the project report!</span>**"
   ]
  },
  {
   "cell_type": "code",
   "execution_count": 2,
   "metadata": {},
   "outputs": [
    {
     "name": "stdout",
     "output_type": "stream",
     "text": [
      "Resistor for lowpass:  0\n",
      "Capacitor for lowpass:  0\n",
      "Resistor for highpass:  0\n",
      "Capacitor for highpass:  0\n"
     ]
    }
   ],
   "source": [
    "low_pass_corner_freq = 200 #YOUR VALUE HERE\n",
    "\n",
    "C1 = 1E-6 ohms #YOUR VALUE HERE\n",
    "R1 = 800 #YOUR CODE HERE\n",
    "\n",
    "high_pass_corner_freq = 2450 #YOUR VALUE HERE\n",
    "\n",
    "C2 = 1E-6 #YOUR VALUE HERE\n",
    "R2 = 65 #YOUR CODE HERE\n",
    "\n",
    "print(\"Resistor for lowpass: \", R1)\n",
    "print(\"Capacitor for lowpass: \", C1)\n",
    "\n",
    "print(\"Resistor for highpass: \", R2)\n",
    "print(\"Capacitor for highpass: \", C2)"
   ]
  },
  {
   "cell_type": "markdown",
   "metadata": {},
   "source": [
    "Once you have built your circuit, check the following:\n",
    "\n",
    "**<span style=\"color:red\">Check that:</span>**\n",
    "- The DC offset at each node is the same as your block diagram\n",
    "- The gain of each amplifier is the same as your block diagram"
   ]
  },
  {
   "cell_type": "markdown",
   "metadata": {},
   "source": [
    "**<span style=\"color:red\">Check the frequency response of your circuit.</span>** Use the function generator to apply a specific input frequency with an offset of $1.65\\mathrm{V}$ (instead of $\\mathrm{V_{mic}}$). Watch the output of your signal on your scope and change the frequency from low to high. Check that the amplitude of the output at the cutoff frequency is attenuated as expected (i.e. check that your 3dB point happens at the cutoff frequency that you want)."
   ]
  },
  {
   "cell_type": "markdown",
   "metadata": {},
   "source": [
    "<a id='part5'></a>\n",
    "## <span style=\"color:blue\">Part 5: Data Collection</span>\n",
    "\n",
    "### Materials\n",
    "- Part 1 setup\n",
    "- Launchpad + USB cable"
   ]
  },
  {
   "cell_type": "markdown",
   "metadata": {},
   "source": [
    "Your Launchpad will be colleting your speech data, so you will want to make sure that you can digitize your analog signal properly and nothing on your Launchpad is broken. \n",
    "\n",
    "- Upload <b>`adc_read.ino`</b> to the Launchpad.\n",
    "- Connect pin `6.0` to the output of your circuit.\n",
    "- Connect the ground of the Launchpad to the ground of your circuit.\n",
    "- Press the reset button on your Launchpad.\n",
    "- From the command line, run <b>`python adc_read.py -D COM###`</b> (substitute `###` with the proper number from Device Manager).\n",
    "\n",
    "If you see a graph on your screen with a signal that changes when you make noises at your microphone and is centered in the middle of the graph, then you have succeeded! Congratulations!"
   ]
  },
  {
   "cell_type": "markdown",
   "metadata": {},
   "source": [
    "<img width='30px' align='left' src=\"http://inst.eecs.berkeley.edu/~ee16b/sp16/lab_pics/check.png\">\n",
    "<br/>\n",
    "## <span style=\"color:green\">CHECKPOINT</span>\n",
    "\n",
    "#### Checkoff Quiz: https://goo.gl/forms/l05O82RbLra0MReq2\n",
    "\n",
    " <span style=\"color:green\">**Show your GSI your working circuit with the microphone.** Make sure the voltage ranges, gain and cutoff frequencies are as expected from your design. </span>\n",
    "\n",
    "<span style=\"color:red\">**Remember what each part of your circuit is for (Record this in a Google doc or somewhere else safe). You will need to write a summary for your final report.**</span>\n"
   ]
  }
 ],
 "metadata": {
  "anaconda-cloud": {},
  "kernelspec": {
   "display_name": "Python 3",
   "language": "python",
   "name": "python3"
  },
  "language_info": {
   "codemirror_mode": {
    "name": "ipython",
    "version": 3
   },
   "file_extension": ".py",
   "mimetype": "text/x-python",
   "name": "python",
   "nbconvert_exporter": "python",
   "pygments_lexer": "ipython3",
   "version": "3.6.5"
  }
 },
 "nbformat": 4,
 "nbformat_minor": 1
}
